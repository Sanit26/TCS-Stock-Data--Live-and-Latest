{
 "cells": [
  {
   "cell_type": "code",
   "execution_count": 1,
   "id": "6894646a-eb08-4af1-9a87-3a3791d752d3",
   "metadata": {},
   "outputs": [],
   "source": [
    "import pandas as pd\n",
    "import numpy as np\n",
    "import matplotlib.pyplot as plt\n",
    "import seaborn as sns\n",
    "from sklearn.model_selection import train_test_split\n",
    "from sklearn.linear_model import LinearRegression\n",
    "from sklearn.metrics import mean_squared_error, r2_score\n",
    "import datetime\n",
    "import warnings\n",
    "warnings.filterwarnings('ignore')\n"
   ]
  },
  {
   "cell_type": "code",
   "execution_count": 2,
   "id": "3c2b5f76-d5cb-4f74-addb-8b1f244b076b",
   "metadata": {},
   "outputs": [
    {
     "name": "stdout",
     "output_type": "stream",
     "text": [
      "History Data:\n"
     ]
    },
    {
     "data": {
      "text/html": [
       "<div>\n",
       "<style scoped>\n",
       "    .dataframe tbody tr th:only-of-type {\n",
       "        vertical-align: middle;\n",
       "    }\n",
       "\n",
       "    .dataframe tbody tr th {\n",
       "        vertical-align: top;\n",
       "    }\n",
       "\n",
       "    .dataframe thead th {\n",
       "        text-align: right;\n",
       "    }\n",
       "</style>\n",
       "<table border=\"1\" class=\"dataframe\">\n",
       "  <thead>\n",
       "    <tr style=\"text-align: right;\">\n",
       "      <th></th>\n",
       "      <th>Date</th>\n",
       "      <th>Open</th>\n",
       "      <th>High</th>\n",
       "      <th>Low</th>\n",
       "      <th>Close</th>\n",
       "      <th>Volume</th>\n",
       "      <th>Dividends</th>\n",
       "      <th>Stock Splits</th>\n",
       "    </tr>\n",
       "  </thead>\n",
       "  <tbody>\n",
       "    <tr>\n",
       "      <th>0</th>\n",
       "      <td>2002-08-12</td>\n",
       "      <td>28.794172</td>\n",
       "      <td>29.742206</td>\n",
       "      <td>28.794172</td>\n",
       "      <td>29.519140</td>\n",
       "      <td>212976</td>\n",
       "      <td>0.0</td>\n",
       "      <td>0.0</td>\n",
       "    </tr>\n",
       "    <tr>\n",
       "      <th>1</th>\n",
       "      <td>2002-08-13</td>\n",
       "      <td>29.556316</td>\n",
       "      <td>30.030333</td>\n",
       "      <td>28.905705</td>\n",
       "      <td>29.119476</td>\n",
       "      <td>153576</td>\n",
       "      <td>0.0</td>\n",
       "      <td>0.0</td>\n",
       "    </tr>\n",
       "    <tr>\n",
       "      <th>2</th>\n",
       "      <td>2002-08-14</td>\n",
       "      <td>29.184536</td>\n",
       "      <td>29.184536</td>\n",
       "      <td>26.563503</td>\n",
       "      <td>27.111877</td>\n",
       "      <td>822776</td>\n",
       "      <td>0.0</td>\n",
       "      <td>0.0</td>\n",
       "    </tr>\n",
       "    <tr>\n",
       "      <th>3</th>\n",
       "      <td>2002-08-15</td>\n",
       "      <td>27.111877</td>\n",
       "      <td>27.111877</td>\n",
       "      <td>27.111877</td>\n",
       "      <td>27.111877</td>\n",
       "      <td>0</td>\n",
       "      <td>0.0</td>\n",
       "      <td>0.0</td>\n",
       "    </tr>\n",
       "    <tr>\n",
       "      <th>4</th>\n",
       "      <td>2002-08-16</td>\n",
       "      <td>26.972458</td>\n",
       "      <td>28.255089</td>\n",
       "      <td>26.582090</td>\n",
       "      <td>27.046812</td>\n",
       "      <td>811856</td>\n",
       "      <td>0.0</td>\n",
       "      <td>0.0</td>\n",
       "    </tr>\n",
       "  </tbody>\n",
       "</table>\n",
       "</div>"
      ],
      "text/plain": [
       "         Date       Open       High        Low      Close  Volume  Dividends  \\\n",
       "0  2002-08-12  28.794172  29.742206  28.794172  29.519140  212976        0.0   \n",
       "1  2002-08-13  29.556316  30.030333  28.905705  29.119476  153576        0.0   \n",
       "2  2002-08-14  29.184536  29.184536  26.563503  27.111877  822776        0.0   \n",
       "3  2002-08-15  27.111877  27.111877  27.111877  27.111877       0        0.0   \n",
       "4  2002-08-16  26.972458  28.255089  26.582090  27.046812  811856        0.0   \n",
       "\n",
       "   Stock Splits  \n",
       "0           0.0  \n",
       "1           0.0  \n",
       "2           0.0  \n",
       "3           0.0  \n",
       "4           0.0  "
      ]
     },
     "metadata": {},
     "output_type": "display_data"
    },
    {
     "name": "stdout",
     "output_type": "stream",
     "text": [
      "\n",
      "Action Data:\n"
     ]
    },
    {
     "data": {
      "text/html": [
       "<div>\n",
       "<style scoped>\n",
       "    .dataframe tbody tr th:only-of-type {\n",
       "        vertical-align: middle;\n",
       "    }\n",
       "\n",
       "    .dataframe tbody tr th {\n",
       "        vertical-align: top;\n",
       "    }\n",
       "\n",
       "    .dataframe thead th {\n",
       "        text-align: right;\n",
       "    }\n",
       "</style>\n",
       "<table border=\"1\" class=\"dataframe\">\n",
       "  <thead>\n",
       "    <tr style=\"text-align: right;\">\n",
       "      <th></th>\n",
       "      <th>Date</th>\n",
       "      <th>Dividends</th>\n",
       "      <th>Stock Splits</th>\n",
       "    </tr>\n",
       "  </thead>\n",
       "  <tbody>\n",
       "    <tr>\n",
       "      <th>0</th>\n",
       "      <td>2004-10-28</td>\n",
       "      <td>0.3750</td>\n",
       "      <td>0.0</td>\n",
       "    </tr>\n",
       "    <tr>\n",
       "      <th>1</th>\n",
       "      <td>2005-02-03</td>\n",
       "      <td>0.4375</td>\n",
       "      <td>0.0</td>\n",
       "    </tr>\n",
       "    <tr>\n",
       "      <th>2</th>\n",
       "      <td>2005-07-06</td>\n",
       "      <td>0.6250</td>\n",
       "      <td>0.0</td>\n",
       "    </tr>\n",
       "    <tr>\n",
       "      <th>3</th>\n",
       "      <td>2005-08-18</td>\n",
       "      <td>0.3750</td>\n",
       "      <td>0.0</td>\n",
       "    </tr>\n",
       "    <tr>\n",
       "      <th>4</th>\n",
       "      <td>2005-10-18</td>\n",
       "      <td>0.3750</td>\n",
       "      <td>0.0</td>\n",
       "    </tr>\n",
       "  </tbody>\n",
       "</table>\n",
       "</div>"
      ],
      "text/plain": [
       "         Date  Dividends  Stock Splits\n",
       "0  2004-10-28     0.3750           0.0\n",
       "1  2005-02-03     0.4375           0.0\n",
       "2  2005-07-06     0.6250           0.0\n",
       "3  2005-08-18     0.3750           0.0\n",
       "4  2005-10-18     0.3750           0.0"
      ]
     },
     "metadata": {},
     "output_type": "display_data"
    },
    {
     "name": "stdout",
     "output_type": "stream",
     "text": [
      "\n",
      "Info Data:\n"
     ]
    },
    {
     "data": {
      "text/html": [
       "<div>\n",
       "<style scoped>\n",
       "    .dataframe tbody tr th:only-of-type {\n",
       "        vertical-align: middle;\n",
       "    }\n",
       "\n",
       "    .dataframe tbody tr th {\n",
       "        vertical-align: top;\n",
       "    }\n",
       "\n",
       "    .dataframe thead th {\n",
       "        text-align: right;\n",
       "    }\n",
       "</style>\n",
       "<table border=\"1\" class=\"dataframe\">\n",
       "  <thead>\n",
       "    <tr style=\"text-align: right;\">\n",
       "      <th></th>\n",
       "      <th>zip</th>\n",
       "      <th>400001</th>\n",
       "    </tr>\n",
       "  </thead>\n",
       "  <tbody>\n",
       "    <tr>\n",
       "      <th>0</th>\n",
       "      <td>sector</td>\n",
       "      <td>Technology</td>\n",
       "    </tr>\n",
       "    <tr>\n",
       "      <th>1</th>\n",
       "      <td>fullTimeEmployees</td>\n",
       "      <td>509058</td>\n",
       "    </tr>\n",
       "    <tr>\n",
       "      <th>2</th>\n",
       "      <td>longBusinessSummary</td>\n",
       "      <td>Tata Consultancy Services Limited provides inf...</td>\n",
       "    </tr>\n",
       "    <tr>\n",
       "      <th>3</th>\n",
       "      <td>city</td>\n",
       "      <td>Mumbai</td>\n",
       "    </tr>\n",
       "    <tr>\n",
       "      <th>4</th>\n",
       "      <td>phone</td>\n",
       "      <td>91 22 6778 9999</td>\n",
       "    </tr>\n",
       "  </tbody>\n",
       "</table>\n",
       "</div>"
      ],
      "text/plain": [
       "                   zip                                             400001\n",
       "0               sector                                         Technology\n",
       "1    fullTimeEmployees                                             509058\n",
       "2  longBusinessSummary  Tata Consultancy Services Limited provides inf...\n",
       "3                 city                                             Mumbai\n",
       "4                phone                                    91 22 6778 9999"
      ]
     },
     "metadata": {},
     "output_type": "display_data"
    }
   ],
   "source": [
    "#Load the Datasets\n",
    "# Replace these file paths with your local paths or keep all 3 in the same folder\n",
    "import pandas as pd\n",
    "\n",
    "#Load dataset \n",
    "history_df = pd.read_csv('TCS_stock_history.csv')\n",
    "action_df = pd.read_csv('TCS_stock_action.csv')\n",
    "info_df = pd.read_csv('TCS_stock_info.csv')\n",
    "\n",
    "# Display first 5 rows of each\n",
    "print(\"History Data:\")\n",
    "display(history_df.head())\n",
    "print(\"\\nAction Data:\")\n",
    "display(action_df.head())\n",
    "print(\"\\nInfo Data:\")\n",
    "display(info_df.head())"
   ]
  },
  {
   "cell_type": "code",
   "execution_count": 3,
   "id": "332dcb4f-90de-4b76-bf06-1c6067a17a2a",
   "metadata": {},
   "outputs": [
    {
     "name": "stdout",
     "output_type": "stream",
     "text": [
      "<class 'pandas.core.frame.DataFrame'>\n",
      "RangeIndex: 4463 entries, 0 to 4462\n",
      "Data columns (total 8 columns):\n",
      " #   Column        Non-Null Count  Dtype  \n",
      "---  ------        --------------  -----  \n",
      " 0   Date          4463 non-null   object \n",
      " 1   Open          4463 non-null   float64\n",
      " 2   High          4463 non-null   float64\n",
      " 3   Low           4463 non-null   float64\n",
      " 4   Close         4463 non-null   float64\n",
      " 5   Volume        4463 non-null   int64  \n",
      " 6   Dividends     4463 non-null   float64\n",
      " 7   Stock Splits  4463 non-null   float64\n",
      "dtypes: float64(6), int64(1), object(1)\n",
      "memory usage: 279.1+ KB\n",
      "None\n",
      "              Open         High          Low        Close        Volume  \\\n",
      "count  4463.000000  4463.000000  4463.000000  4463.000000  4.463000e+03   \n",
      "mean    866.936239   876.675013   856.653850   866.537398  3.537876e+06   \n",
      "std     829.905368   838.267104   821.233477   829.611313  3.273531e+06   \n",
      "min      24.146938    27.102587    24.146938    26.377609  0.000000e+00   \n",
      "25%     188.951782   191.571816   185.979417   188.594620  1.860959e+06   \n",
      "50%     530.907530   534.751639   525.616849   529.713257  2.757742e+06   \n",
      "75%    1156.462421  1165.815854  1143.622800  1154.784851  4.278625e+06   \n",
      "max    3930.000000  3981.750000  3892.100098  3954.550049  8.806715e+07   \n",
      "\n",
      "         Dividends  Stock Splits  \n",
      "count  4463.000000   4463.000000  \n",
      "mean      0.071533      0.001344  \n",
      "std       0.965401      0.051842  \n",
      "min       0.000000      0.000000  \n",
      "25%       0.000000      0.000000  \n",
      "50%       0.000000      0.000000  \n",
      "75%       0.000000      0.000000  \n",
      "max      40.000000      2.000000  \n",
      "<class 'pandas.core.frame.DataFrame'>\n",
      "RangeIndex: 70 entries, 0 to 69\n",
      "Data columns (total 3 columns):\n",
      " #   Column        Non-Null Count  Dtype  \n",
      "---  ------        --------------  -----  \n",
      " 0   Date          70 non-null     object \n",
      " 1   Dividends     70 non-null     float64\n",
      " 2   Stock Splits  70 non-null     float64\n",
      "dtypes: float64(2), object(1)\n",
      "memory usage: 1.8+ KB\n",
      "None\n",
      "         Date  Dividends  Stock Splits\n",
      "0  2004-10-28     0.3750           0.0\n",
      "1  2005-02-03     0.4375           0.0\n",
      "2  2005-07-06     0.6250           0.0\n",
      "3  2005-08-18     0.3750           0.0\n",
      "4  2005-10-18     0.3750           0.0\n",
      "<class 'pandas.core.frame.DataFrame'>\n",
      "RangeIndex: 150 entries, 0 to 149\n",
      "Data columns (total 2 columns):\n",
      " #   Column  Non-Null Count  Dtype \n",
      "---  ------  --------------  ----- \n",
      " 0   zip     150 non-null    object\n",
      " 1   400001  108 non-null    object\n",
      "dtypes: object(2)\n",
      "memory usage: 2.5+ KB\n",
      "None\n",
      "                   zip                                             400001\n",
      "0               sector                                         Technology\n",
      "1    fullTimeEmployees                                             509058\n",
      "2  longBusinessSummary  Tata Consultancy Services Limited provides inf...\n",
      "3                 city                                             Mumbai\n",
      "4                phone                                    91 22 6778 9999\n"
     ]
    }
   ],
   "source": [
    "# Basic info\n",
    "print(history_df.info())\n",
    "print(history_df.describe())\n",
    "\n",
    "print(action_df.info())\n",
    "print(action_df.head())\n",
    "\n",
    "print(info_df.info())\n",
    "print(info_df.head())"
   ]
  },
  {
   "cell_type": "code",
   "execution_count": 4,
   "id": "bdcb0449-dbdf-4fc1-922f-2c5e1c7357aa",
   "metadata": {},
   "outputs": [
    {
     "ename": "NameError",
     "evalue": "name 'df' is not defined",
     "output_type": "error",
     "traceback": [
      "\u001b[1;31m---------------------------------------------------------------------------\u001b[0m",
      "\u001b[1;31mNameError\u001b[0m                                 Traceback (most recent call last)",
      "Cell \u001b[1;32mIn[4], line 1\u001b[0m\n\u001b[1;32m----> 1\u001b[0m df\u001b[38;5;241m.\u001b[39minfo()\n",
      "\u001b[1;31mNameError\u001b[0m: name 'df' is not defined"
     ]
    }
   ],
   "source": [
    "df.info()"
   ]
  },
  {
   "cell_type": "code",
   "execution_count": null,
   "id": "f4f3aeb5-064f-4220-97fc-a25268107f36",
   "metadata": {},
   "outputs": [],
   "source": [
    "df.describe()"
   ]
  },
  {
   "cell_type": "code",
   "execution_count": 5,
   "id": "620dbe03-d0cb-4a0b-b17b-c7e88ab87ab3",
   "metadata": {},
   "outputs": [
    {
     "ename": "NameError",
     "evalue": "name 'history' is not defined",
     "output_type": "error",
     "traceback": [
      "\u001b[1;31m---------------------------------------------------------------------------\u001b[0m",
      "\u001b[1;31mNameError\u001b[0m                                 Traceback (most recent call last)",
      "Cell \u001b[1;32mIn[5], line 1\u001b[0m\n\u001b[1;32m----> 1\u001b[0m \u001b[38;5;28mprint\u001b[39m(history\u001b[38;5;241m.\u001b[39mdtypes)      \u001b[38;5;66;03m# Check data types of all columns\u001b[39;00m\n\u001b[0;32m      2\u001b[0m \u001b[38;5;28mprint\u001b[39m(history\u001b[38;5;241m.\u001b[39mselect_dtypes(include\u001b[38;5;241m=\u001b[39m\u001b[38;5;124m'\u001b[39m\u001b[38;5;124mnumber\u001b[39m\u001b[38;5;124m'\u001b[39m)\u001b[38;5;241m.\u001b[39mhead())  \u001b[38;5;66;03m# Show only numeric columns\u001b[39;00m\n\u001b[0;32m      5\u001b[0m history[\u001b[38;5;124m'\u001b[39m\u001b[38;5;124mDate\u001b[39m\u001b[38;5;124m'\u001b[39m] \u001b[38;5;241m=\u001b[39m pd\u001b[38;5;241m.\u001b[39mto_datetime(history[\u001b[38;5;124m'\u001b[39m\u001b[38;5;124mDate\u001b[39m\u001b[38;5;124m'\u001b[39m])\n",
      "\u001b[1;31mNameError\u001b[0m: name 'history' is not defined"
     ]
    }
   ],
   "source": [
    "print(history.dtypes)      # Check data types of all columns\n",
    "print(history.select_dtypes(include='number').head())  # Show only numeric columns\n",
    "\n",
    "\n",
    "history['Date'] = pd.to_datetime(history['Date'])\n",
    "numeric_df = history.select_dtypes(include='number')\n",
    "corel = numeric_df.corr()\n"
   ]
  },
  {
   "cell_type": "code",
   "execution_count": null,
   "id": "15b3d680-d939-4125-8264-fc6ee8289e9c",
   "metadata": {},
   "outputs": [],
   "source": [
    "#Clean and Prepare the history Dataset\n",
    "\n",
    "history['Date'] = pd.to_datetime(history['Date'])\n",
    "numeric_df = history.select_dtypes(include='number')\n",
    "corel = numeric_df.corr()\n",
    "for col in history.columns:\n",
    "    history[col] = pd.to_numeric(history[col], errors='ignore')\n",
    "\n",
    "numeric_df = history.select_dtypes(include='number')\n",
    "corel = numeric_df.corr()\n",
    "\n"
   ]
  },
  {
   "cell_type": "code",
   "execution_count": null,
   "id": "e8f8b3ed-2296-4f9e-992a-1eab5480f0a1",
   "metadata": {},
   "outputs": [],
   "source": [
    "numeric_data = data.select_dtypes(include=['number'])  # Optional step\n",
    "corel = numeric_data.corr()                            # Correct way\n",
    "print(corel)\n",
    "\n",
    "\n",
    "data_cleaned = data.dropna()\n",
    "print(corel)"
   ]
  },
  {
   "cell_type": "code",
   "execution_count": null,
   "id": "a9eee0a1-0af3-4b7d-8d8f-e847b213fa5c",
   "metadata": {},
   "outputs": [],
   "source": [
    "import pandas as pd\n",
    "import seaborn as sns\n",
    "import matplotlib.pyplot as plt\n",
    "\n",
    "history = pd.read_csv(\"TCS_stock_history.csv\")\n",
    "print(history.head())\n",
    "\n",
    "# Convert date column to datetime if needed (optional)\n",
    "history['Date'] = pd.to_datetime(history['Date'])\n",
    "\n",
    "# Select only numeric columns for correlation\n",
    "numeric_df = history.select_dtypes(include='number')\n",
    "\n",
    "corel = numeric_df.corr()\n",
    "print(corel)\n",
    "\n",
    "sns.heatmap(corel, annot=True, cmap=\"Greens\", fmt=\".2f\")\n",
    "plt.show()\n"
   ]
  },
  {
   "cell_type": "code",
   "execution_count": null,
   "id": "af152ffe-d145-40a1-9bd5-431a07622c56",
   "metadata": {},
   "outputs": [],
   "source": []
  },
  {
   "cell_type": "code",
   "execution_count": null,
   "id": "340ca10a-2dce-4e3c-881d-1e7b39a5208d",
   "metadata": {},
   "outputs": [],
   "source": [
    "history['Date'] = pd.to_datetime(history['Date'])\n",
    "history.sort_values(by='Date', inplace=True)\n",
    "\n",
    "# Check for nulls\n",
    "print(history.isnull().sum())\n",
    "\n",
    "# Convert numeric columns (in case of data errors)\n",
    "cols = ['Open', 'High', 'Low', 'Close', 'Volume', 'Dividends', 'Stock Splits']\n",
    "for col in cols:\n",
    "    history[col] = pd.to_numeric(history[col], errors='coerce')\n",
    "\n",
    "# Fill nulls with forward-fill\n",
    "history.fillna(method='ffill', inplace=True)\n",
    "history.isnull().sum()"
   ]
  },
  {
   "cell_type": "code",
   "execution_count": null,
   "id": "273cedc6-a439-4e27-b820-cb71700c13b6",
   "metadata": {},
   "outputs": [],
   "source": [
    "plt.figure(figsize=(14, 7))\n",
    "plt.plot(history['Date'], history['Close'], color='blue', label='Close Price')\n",
    "plt.xlabel('Date')\n",
    "plt.ylabel('Stock Price')\n",
    "plt.title('TCS Stock Close Price Over Time')\n",
    "plt.legend()\n",
    "plt.show()\n"
   ]
  },
  {
   "cell_type": "code",
   "execution_count": null,
   "id": "760e1cdc-f986-4a1a-a3f2-c607ec03cf3c",
   "metadata": {
    "scrolled": true
   },
   "outputs": [],
   "source": [
    "pip install matplotlib\n"
   ]
  },
  {
   "cell_type": "code",
   "execution_count": null,
   "id": "98c3886d-fa2a-4c93-a098-c9733a186140",
   "metadata": {},
   "outputs": [],
   "source": [
    "import pandas as pd\n",
    "import matplotlib.pyplot as plt\n",
    "\n",
    "\n",
    "# Example: Load historical stock data\n",
    "history = pd.read_csv(\"TCS_stock_history.csv\")  # Replace with your actual data source\n",
    "print(history.columns)\n",
    "print(history.head())\n",
    "\n",
    "history['MA50'] = history['Close'].rolling(window=50).mean()\n",
    "history['MA200'] = history['Close'].rolling(window=200).mean()\n",
    "\n",
    "plt.figure(figsize=(14, 7))\n",
    "plt.plot(history['Date'], history['Close'], label='Close Price')\n",
    "plt.plot(history['Date'], history['MA50'], label='50-Day MA')\n",
    "plt.plot(history['Date'], history['MA200'], label='200-Day MA')\n",
    "plt.xlabel('Date')\n",
    "plt.ylabel('Price')\n",
    "plt.title('TCS Stock Price with Moving Averages')\n",
    "plt.legend()\n",
    "plt.show()\n"
   ]
  },
  {
   "cell_type": "code",
   "execution_count": null,
   "id": "0a3a9fcf-c6ba-43f7-86cb-a3efd61a641f",
   "metadata": {},
   "outputs": [],
   "source": [
    "history['Year'] = history['Date'].dt.year\n",
    "history['Month'] = history['Date'].dt.month\n",
    "history['Day'] = history['Date'].dt.day\n",
    "history['Day_of_Week'] = history['Date'].dt.dayofweek\n",
    "history['Prev_Close'] = history['Close'].shift(1)\n",
    "history.dropna(inplace=True)  # remove rows with NaN after shifting\n"
   ]
  },
  {
   "cell_type": "code",
   "execution_count": null,
   "id": "0b4d4156-0507-4839-8f98-489cebad4abb",
   "metadata": {},
   "outputs": [],
   "source": [
    "features = ['Open', 'High', 'Low', 'Volume', 'Prev_Close', 'Day_of_Week', 'Month']\n",
    "X = history[features]\n",
    "y = history['Close']\n",
    "\n",
    "X_train, X_test, y_train, y_test = train_test_split(X, y, test_size=0.2, random_state=42)\n",
    "\n",
    "model = LinearRegression()\n",
    "model.fit(X_train, y_train)\n",
    "y_pred = model.predict(X_test)\n",
    "\n",
    "print(\"MSE:\", mean_squared_error(y_test, y_pred))\n",
    "print(\"R^2 Score:\", r2_score(y_test, y_pred))\n"
   ]
  },
  {
   "cell_type": "code",
   "execution_count": null,
   "id": "d980601d-57cc-476f-b168-bed345eb7141",
   "metadata": {},
   "outputs": [],
   "source": [
    "plt.figure(figsize=(10, 5))\n",
    "plt.scatter(y_test, y_pred, color='blue')\n",
    "plt.xlabel('Actual Close Price')\n",
    "plt.ylabel('Predicted Close Price')\n",
    "plt.title('Actual vs Predicted Close Price')\n",
    "plt.show()\n"
   ]
  },
  {
   "cell_type": "code",
   "execution_count": null,
   "id": "dc82a5c1-d470-4533-8cc1-82a5e61edab1",
   "metadata": {},
   "outputs": [],
   "source": [
    "# Datasets (action and info) These can be used for:\n",
    "\n",
    "#Comparing current action vs historical data\n",
    "\n",
    "#Adding company-related information as features\n",
    "\n",
    "# Enhancing visualizations But for the core prediction model, TCS_stock_history.csv is sufficient."
   ]
  },
  {
   "cell_type": "code",
   "execution_count": null,
   "id": "239c3894-b513-4515-b36f-96903211c34b",
   "metadata": {},
   "outputs": [],
   "source": [
    "import pickle\n",
    "with open('TCS_Stock_Predictor.pkl', 'wb') as file:\n",
    "    pickle.dump(model, file)\n"
   ]
  },
  {
   "cell_type": "code",
   "execution_count": null,
   "id": "2b99821c-011d-419e-b8af-cbdf0a7a2e76",
   "metadata": {},
   "outputs": [],
   "source": [
    "plt.figure(figsize=(10, 6))\n",
    "sns.heatmap(history.corr(), annot=True, cmap='coolwarm', fmt=\".2f\")\n",
    "plt.title(\"Correlation Matrix\")\n",
    "plt.show()\n"
   ]
  },
  {
   "cell_type": "code",
   "execution_count": null,
   "id": "7c4cd9d6-9031-44af-8aaa-bd8b83bfe2dd",
   "metadata": {},
   "outputs": [],
   "source": [
    "plt.figure(figsize=(14, 6))\n",
    "plt.plot(history['Date'], history['Volume'], color='purple')\n",
    "plt.title(\"Trading Volume Over Time\")\n",
    "plt.xlabel(\"Date\")\n",
    "plt.ylabel(\"Volume\")\n",
    "plt.show()\n"
   ]
  },
  {
   "cell_type": "code",
   "execution_count": null,
   "id": "06fdaf26-a5da-4289-9844-908da2929a16",
   "metadata": {},
   "outputs": [],
   "source": [
    "import plotly.graph_objects as go\n",
    "\n",
    "fig = go.Figure(data=[go.Candlestick(x=history['Date'],\n",
    "                open=history['Open'],\n",
    "                high=history['High'],\n",
    "                low=history['Low'],\n",
    "                close=history['Close'])])\n",
    "\n",
    "fig.update_layout(title='Candlestick Chart for TCS Stock')\n",
    "fig.show()\n"
   ]
  },
  {
   "cell_type": "code",
   "execution_count": null,
   "id": "b393bd66-3fa8-444f-ac1a-338f396921a7",
   "metadata": {},
   "outputs": [],
   "source": [
    "from sklearn.ensemble import RandomForestRegressor\n",
    "\n",
    "rf_model = RandomForestRegressor(n_estimators=100, random_state=42)\n",
    "rf_model.fit(X_train, y_train)\n",
    "rf_pred = rf_model.predict(X_test)\n",
    "\n",
    "print(\"RF MSE:\", mean_squared_error(y_test, rf_pred))\n",
    "print(\"RF R2:\", r2_score(y_test, rf_pred))\n"
   ]
  },
  {
   "cell_type": "code",
   "execution_count": null,
   "id": "0646005e-5d77-4a86-aad6-27dc0bc27195",
   "metadata": {},
   "outputs": [],
   "source": [
    "!pip install xgboost \n"
   ]
  },
  {
   "cell_type": "code",
   "execution_count": null,
   "id": "248a3cd7-e864-43ed-a669-412b7b9fee92",
   "metadata": {},
   "outputs": [],
   "source": [
    "import xgboost as xgb\n",
    "\n",
    "xgb_model = xgb.XGBRegressor(objective='reg:squarederror')\n",
    "xgb_model.fit(X_train, y_train)\n",
    "xgb_pred = xgb_model.predict(X_test)\n",
    "\n",
    "print(\"XGBoost MSE:\", mean_squared_error(y_test, xgb_pred))\n",
    "print(\"XGBoost R2:\", r2_score(y_test, xgb_pred))"
   ]
  },
  {
   "cell_type": "code",
   "execution_count": null,
   "id": "ab3daf8a-cb16-48cf-ae10-1976fb00b55d",
   "metadata": {},
   "outputs": [],
   "source": [
    "plt.figure(figsize=(10, 5))\n",
    "plt.scatter(y_test, y_pred, color='blue')\n",
    "plt.xlabel('Actual Close Price')\n",
    "plt.ylabel('Predicted Close Price')\n",
    "plt.title('Linear Regression: Actual vs Predicted Close Price')\n",
    "plt.grid(True)\n",
    "plt.show()\n"
   ]
  },
  {
   "cell_type": "code",
   "execution_count": null,
   "id": "999ef3ad-2869-4197-828f-d01012e60006",
   "metadata": {},
   "outputs": [],
   "source": [
    "# Create a DataFrame to compare\n",
    "compare_df = pd.DataFrame({\n",
    "    'Actual': y_test.values,\n",
    "    'Predicted': y_pred\n",
    "})\n",
    "compare_df = compare_df.reset_index(drop=True)\n",
    "\n",
    "plt.figure(figsize=(14, 6))\n",
    "plt.plot(compare_df['Actual'], label='Actual Price', color='green')\n",
    "plt.plot(compare_df['Predicted'], label='Predicted Price', color='red')\n",
    "plt.title('Actual vs Predicted Closing Prices')\n",
    "plt.xlabel('Time (Index)')\n",
    "plt.ylabel('Price')\n",
    "plt.legend()\n",
    "plt.grid(True)\n",
    "plt.show()\n"
   ]
  },
  {
   "cell_type": "code",
   "execution_count": null,
   "id": "ed73736c-6b0a-478f-a531-397372ef409d",
   "metadata": {},
   "outputs": [],
   "source": [
    "error = y_test.values - y_pred\n",
    "plt.figure(figsize=(12, 5))\n",
    "plt.bar(range(len(error)), error, color='orange')\n",
    "plt.title('Prediction Error (Actual - Predicted)')\n",
    "plt.xlabel('Index')\n",
    "plt.ylabel('Error Value')\n",
    "plt.grid(True)\n",
    "plt.show()\n"
   ]
  },
  {
   "cell_type": "code",
   "execution_count": null,
   "id": "95fe5958-2be9-4654-b53e-08c9f3190569",
   "metadata": {},
   "outputs": [],
   "source": []
  },
  {
   "cell_type": "code",
   "execution_count": null,
   "id": "01429d9f-eb94-4793-baff-cf79e69faf84",
   "metadata": {},
   "outputs": [],
   "source": [
    "\n",
    "# Correlation of features with the target variable (Close Price)\n",
    "correlation_with_close = history.corr()['Close'].sort_values(ascending=False)\n",
    "print(correlation_with_close)"
   ]
  },
  {
   "cell_type": "code",
   "execution_count": null,
   "id": "5d1d1ef8-dc8b-4f8c-9935-1ebd4b5bfbfc",
   "metadata": {},
   "outputs": [],
   "source": [
    "sns.heatmap(corel,annot= True,cmap= \"Greens\",fmt=\".2f\")\n",
    "plt.show()"
   ]
  },
  {
   "cell_type": "code",
   "execution_count": null,
   "id": "b435a7f5-1225-4623-a31c-2ac619199e5e",
   "metadata": {},
   "outputs": [],
   "source": [
    "import matplotlib.pyplot as plt\n",
    "\n",
    "plt.figure(figsize=(12, 6))\n",
    "plt.plot(df['Date'], df['Volume'], label='Volume', color='g')\n",
    "plt.plot(df['Date'], df['Dividends'], label='Dividends', color='r')\n",
    "plt.plot(df['Date'], df['Stock Splits'], label='Stock Splits', color='m')\n",
    "plt.xlabel('Date')\n",
    "plt.ylabel('Value')\n",
    "plt.title('Volume, Dividends, and Stock Splits over Time', weight=\"bold\")\n",
    "plt.legend()\n",
    "plt.show()"
   ]
  },
  {
   "cell_type": "code",
   "execution_count": null,
   "id": "58c9a1c6-95ec-4b8d-9f23-c23f97d78655",
   "metadata": {},
   "outputs": [],
   "source": [
    "plt.scatter(df['Close'], df['Volume'])\n",
    "plt.xlabel('Close Price')\n",
    "plt.ylabel('Volume')\n",
    "plt.title('Close Price vs. Volume',weight= \"bold\")\n",
    "plt.show()\n",
    "\n",
    "# Dividends vs. Close Price\n",
    "plt.scatter(df['Dividends'], df['Close'])\n",
    "plt.xlabel('Dividends')\n",
    "plt.ylabel('Close Price')\n",
    "plt.title('Dividends vs. Close Price')\n",
    "plt.show()\n",
    "# Stock Splits vs. Close Price\n",
    "plt.scatter(df['Stock Splits'], df['Close'])\n",
    "plt.xlabel('Stock Splits')\n",
    "plt.ylabel('Close Price')\n",
    "plt.title('Stock Splits vs. Close Price')\n",
    "plt.show()"
   ]
  },
  {
   "cell_type": "code",
   "execution_count": null,
   "id": "3dfbaa0e-d977-493e-ae2e-3cf1219bdb55",
   "metadata": {},
   "outputs": [],
   "source": [
    "#Moving Average Crossover Strategy\n",
    "\n",
    "\n",
    "df['Short_MA'] = df['Close'].rolling(window=5).mean()\n",
    "df['Long_MA'] = df['Close'].rolling(window=30).mean()\n",
    "# Creating a trading signals based on moving average crossovers\n",
    "df['Signal'] = np.where(df['Short_MA'] > df['Long_MA'], 1, -1)\n",
    "# Plot the strategy signals\n",
    "plt.figure(figsize=(12, 6))\n",
    "plt.plot(df['Date'], df['Close'], label='Close Price',\n",
    "color='b')\n",
    "plt.plot(df['Date'], df['Short_MA'], label='Short-term MA',\n",
    "color='r')\n",
    "plt.plot(df['Date'], df['Long_MA'], label='Long-term MA',\n",
    "color='g')\n",
    "plt.scatter(df['Date'], df['Close'] * df['Signal'],\n",
    "label='Buy/Sell Signal', marker='o', color='m')\n",
    "plt.xlabel('Date')\n",
    "plt.ylabel('Price')\n",
    "plt.title('Moving Average Crossover Strategy')\n",
    "plt.legend()\n",
    "plt.show()"
   ]
  },
  {
   "cell_type": "code",
   "execution_count": null,
   "id": "fd275983-5bdd-4942-94b1-4510e0e9e1e1",
   "metadata": {},
   "outputs": [],
   "source": [
    "#Daily Price Change\n",
    "\n",
    "df['Daily_Price_Change'] = df['Close'].pct_change() * 100\n",
    "# Distribution of daily percentage change\n",
    "plt.figure(figsize=(8, 6))\n",
    "sns.histplot(df['Daily_Price_Change'].dropna(), kde=True,\n",
    "color='orange')\n",
    "plt.xlabel('Daily Percentage Change')\n",
    "plt.ylabel('Frequency')\n",
    "plt.title('Distribution of Daily Percentage Change')\n",
    "plt.show()"
   ]
  },
  {
   "cell_type": "code",
   "execution_count": null,
   "id": "9272c40d-43b2-4827-b588-2554122e2bcb",
   "metadata": {},
   "outputs": [],
   "source": [
    "df['Moving_Avg_Close'] = df['Close'].rolling(window=7).mean()\n",
    "df.shape"
   ]
  },
  {
   "cell_type": "code",
   "execution_count": null,
   "id": "5fadffa3-0ca1-40d5-8754-fa6fb70dc214",
   "metadata": {},
   "outputs": [],
   "source": [
    "# Data Preparation & Normalization\n",
    "\n",
    "# Prepare the data for LSTM\n",
    "X_train = df['Close'].values.reshape(-1, 1)\n",
    "y_train = df['Close'].shift(-1).dropna().values\n",
    "# Normalize the data\n",
    "from sklearn.preprocessing import MinMaxScaler\n",
    "scaler = MinMaxScaler()\n",
    "X_train_scaled = scaler.fit_transform(X_train)\n",
    "# Define the test data\n",
    "test_ratio = 0.2\n",
    "test_size = int(len(df) * test_ratio)\n",
    "test_data = df[-test_size:]\n",
    "\n",
    "# Prepare the data for prediction\n",
    "X_test = test_data['Close'].values.reshape(-1, 1)\n",
    "X_test_scaled = scaler.transform(X_test)\n",
    "X_test_lstm = X_test_scaled.reshape(-1, 1, 1)\n",
    "#Reshaping Data:\n",
    "# Reshape the data for LSTM\n",
    "X_train_lstm = X_train_scaled[:-1].reshape(-1, 1, 1)\n",
    "y_train_lstm = X_train_scaled[1:]\n"
   ]
  },
  {
   "cell_type": "code",
   "execution_count": null,
   "id": "30cae11b-db12-416c-913b-48f782854ef0",
   "metadata": {
    "scrolled": true
   },
   "outputs": [],
   "source": [
    "!pip install tensorflow\n"
   ]
  },
  {
   "cell_type": "code",
   "execution_count": null,
   "id": "693d308f-714c-4032-bea7-46ac0baa41c1",
   "metadata": {},
   "outputs": [],
   "source": [
    "from tensorflow.keras.models import Sequential\n",
    "from tensorflow.keras.layers import LSTM, Dense\n",
    "\n",
    "#Building a LSTM Model\n",
    "\n",
    "from tensorflow.keras.models import Sequential\n",
    "from tensorflow.keras.layers import LSTM, Dense\n",
    "from tqdm import tqdm\n",
    "\n",
    "model = Sequential()\n",
    "model.add(LSTM(50, input_shape=(1, 1)))\n",
    "model.add(Dense(1))\n",
    "model.compile(optimizer='adam', loss='mean_squared_error')\n",
    "\n",
    "# Then your training loop or model.fit(...)\n",
    "\n",
    "\n",
    "epochs = 30\n",
    "batch_size = 15\n",
    "\n",
    "for epoch in tqdm(range(epochs)):\n",
    "    for i in range(0, len(X_train_lstm), batch_size):\n",
    "        X_batch = X_train_lstm[i:i+batch_size]\n",
    "        y_batch = y_train_lstm[i:i+batch_size]  # assuming you have labels\n",
    "        model.train_on_batch(X_batch, y_batch) \n",
    "\n",
    "# Prepare the data for prediction\n",
    "X_test = test_data['Close'].values.reshape(-1, 1)\n",
    "X_test_scaled = scaler.transform(X_test)\n",
    "X_test_lstm = X_test_scaled.reshape(-1, 1, 1)"
   ]
  },
  {
   "cell_type": "code",
   "execution_count": null,
   "id": "40eec2cd-1fac-4beb-a7a6-d418fd77202e",
   "metadata": {},
   "outputs": [],
   "source": [
    "# Predictions using LSTM\n",
    "\n",
    "lstm_predictions = model.predict(X_test_lstm).flatten()"
   ]
  },
  {
   "cell_type": "code",
   "execution_count": null,
   "id": "38509228-0932-4d34-8385-2b4614bd5ce9",
   "metadata": {},
   "outputs": [],
   "source": [
    "lstm_predictions = lstm_predictions.reshape(-1, 1)\n",
    "lstm_predictions = scaler.inverse_transform(lstm_predictions)\n",
    "#Visualization of LSTM predictions\n",
    "\n",
    "import matplotlib.pyplot as plt\n",
    "\n",
    "plt.figure(figsize=(12, 6))\n",
    "plt.plot(test_data['Date'], test_data['Close'], label='Actual Close Price', color='b')\n",
    "plt.plot(test_data['Date'], lstm_predictions, label='Predicted Close Price (LSTM)', color='r')\n",
    "plt.xlabel('Date')\n",
    "plt.ylabel('Close Price')\n",
    "plt.title('Actual vs. Predicted Close Price using LSTM')\n",
    "plt.legend()\n",
    "plt.show()\n"
   ]
  },
  {
   "cell_type": "code",
   "execution_count": null,
   "id": "a987f04e-4182-4005-890d-c2059a1cae1b",
   "metadata": {},
   "outputs": [],
   "source": [
    "from sklearn.metrics import mean_absolute_error\n",
    "\n",
    "from sklearn.metrics import mean_absolute_error\n",
    "\n",
    "lstm_mae = mean_absolute_error(test_data['Close'], lstm_predictions)\n",
    "print(\"LSTM Mean Absolute Error:\", lstm_mae)\n",
    "\n",
    "\n",
    "lstm_predictions = lstm_predictions.reshape(-1, 1)\n",
    "lstm_predictions = scaler.inverse_transform(lstm_predictions)\n",
    "date_index = test_data.index[-len(lstm_predictions):]\n",
    "predictions_df = pd.DataFrame({'Date': date_index,\n",
    "'Predicted_Close': lstm_predictions.flatten()})\n",
    "\n",
    "predictions_df.to_csv('predictions.csv', index=False)"
   ]
  },
  {
   "cell_type": "code",
   "execution_count": null,
   "id": "15fadb1f-ff8d-4a45-bc70-d3828f6a33b7",
   "metadata": {},
   "outputs": [],
   "source": []
  }
 ],
 "metadata": {
  "kernelspec": {
   "display_name": "Python 3 (ipykernel)",
   "language": "python",
   "name": "python3"
  },
  "language_info": {
   "codemirror_mode": {
    "name": "ipython",
    "version": 3
   },
   "file_extension": ".py",
   "mimetype": "text/x-python",
   "name": "python",
   "nbconvert_exporter": "python",
   "pygments_lexer": "ipython3",
   "version": "3.12.7"
  }
 },
 "nbformat": 4,
 "nbformat_minor": 5
}
